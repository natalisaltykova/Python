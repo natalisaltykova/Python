{
 "cells": [
  {
   "cell_type": "code",
   "execution_count": 1,
   "metadata": {},
   "outputs": [
    {
     "name": "stdout",
     "output_type": "stream",
     "text": [
      "Ваша стипендия составляет:  4620 рублей\n"
     ]
    }
   ],
   "source": [
    "tvor = int(input('Введите количество мероприятий: '))\n",
    "nauch = int(input('Введите количество научных статей: '))\n",
    "tvor1 = tvor *  150\n",
    "nauch1 = nauch * 250\n",
    "soc = 1500\n",
    "akad = 2620\n",
    "if int(input('Вы из малоимущей семьи или имеете другие основания для социальной стипендии').lower() == \"да\"):\n",
    "    print('Ваша стипендия составляет: ', akad+tvor1+nauch1+soc, \"рублей\")\n",
    "else:\n",
    "    print('Ваша стипендия составляет: ', akad+tvor1+nauch1, \"рублей\")"
   ]
  }
 ],
 "metadata": {
  "kernelspec": {
   "display_name": "Python 3.10.7 64-bit",
   "language": "python",
   "name": "python3"
  },
  "language_info": {
   "codemirror_mode": {
    "name": "ipython",
    "version": 3
   },
   "file_extension": ".py",
   "mimetype": "text/x-python",
   "name": "python",
   "nbconvert_exporter": "python",
   "pygments_lexer": "ipython3",
   "version": "3.10.7"
  },
  "orig_nbformat": 4,
  "vscode": {
   "interpreter": {
    "hash": "3749bd33cb77b57d85038526c7ba5ebebcf92821b651edec6c758f100ea348cb"
   }
  }
 },
 "nbformat": 4,
 "nbformat_minor": 2
}
