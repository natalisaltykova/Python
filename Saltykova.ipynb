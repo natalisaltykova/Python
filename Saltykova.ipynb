{
 "cells": [
  {
   "cell_type": "code",
   "execution_count": null,
   "metadata": {},
   "outputs": [],
   "source": [
    "tvor=int(input('Введите количество мероприятий: '))\n",
    "nauch=int(input('Введите количество научных статей: '))\n",
    "tvor1=tvor*150\n",
    "nauch1=nauch*250\n",
    "soc=1500\n",
    "akad=2620\n",
    "if int(input('Вы из малоимущей семьи или имеете другие основания для социальной стипендии').lower() == \"да\"):\n",
    "    print('Ваша стипендия составляет: ', akad+tvor1+nauch1+soc, \"рублей\")\n",
    "else:\n",
    "    print('Ваша стипендия составляет: ', akad+tvor1+nauch1, \"рублей\")"
   ]
  }
 ],
 "metadata": {
  "kernelspec": {
   "display_name": "Python 3.10.7 64-bit",
   "language": "python",
   "name": "python3"
  },
  "language_info": {
   "name": "python",
   "version": "3.10.7"
  },
  "orig_nbformat": 4,
  "vscode": {
   "interpreter": {
    "hash": "6c314bc54392141bae31911de303799207ecc6063e941ff81ce8dc429d777a8a"
   }
  }
 },
 "nbformat": 4,
 "nbformat_minor": 2
}
